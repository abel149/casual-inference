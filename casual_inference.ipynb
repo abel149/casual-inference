{
 "cells": [
  {
   "cell_type": "code",
   "execution_count": null,
   "id": "42eb4dea-98f0-40f8-b451-29c88c95db09",
   "metadata": {},
   "outputs": [],
   "source": [
    "pip install causalml scikit-learn matplotlib\n"
   ]
  },
  {
   "cell_type": "code",
   "execution_count": null,
   "id": "58d92414-cc5b-4f33-9bd8-4b3d42914758",
   "metadata": {},
   "outputs": [],
   "source": [
    "import pandas as pd\n",
    "import numpy as np"
   ]
  },
  {
   "cell_type": "code",
   "execution_count": 7,
   "id": "314cdc8d-9a0f-4ca2-ba49-abc3737a81d5",
   "metadata": {},
   "outputs": [],
   "source": [
    "from causalml.match import NearestNeighborMatch\n",
    "from sklearn.preprocessing import StandardScaler\n",
    "from sklearn.linear_model import LogisticRegression"
   ]
  },
  {
   "cell_type": "code",
   "execution_count": 28,
   "id": "fff09478-2565-47af-ad05-9e132ccdc9d4",
   "metadata": {},
   "outputs": [],
   "source": [
    "from causalml.metrics import *"
   ]
  },
  {
   "cell_type": "code",
   "execution_count": 29,
   "id": "fe7617a4-0173-4be7-8641-4218cef752ea",
   "metadata": {},
   "outputs": [],
   "source": [
    "df = pd.read_csv(\"data2.csv\")"
   ]
  },
  {
   "cell_type": "code",
   "execution_count": 30,
   "id": "b36fc970-6301-4009-86f0-24ee4dea6da6",
   "metadata": {},
   "outputs": [],
   "source": [
    "#cleaning\n",
    "\n"
   ]
  },
  {
   "cell_type": "code",
   "execution_count": 20,
   "id": "9711ad98-4c7a-418a-9c3e-0c72a97653eb",
   "metadata": {},
   "outputs": [],
   "source": []
  },
  {
   "cell_type": "code",
   "execution_count": 25,
   "id": "929da8a9-40bc-4158-8840-5d1ce3c976f3",
   "metadata": {},
   "outputs": [
    {
     "data": {
      "text/plain": [
       "array([0.56642044, 0.49054349, 0.46329772, ..., 0.31063333, 0.44520373,\n",
       "       0.46290348])"
      ]
     },
     "execution_count": 25,
     "metadata": {},
     "output_type": "execute_result"
    }
   ],
   "source": []
  },
  {
   "cell_type": "code",
   "execution_count": 32,
   "id": "b9e9293a-b23f-442d-bfd7-48653d50d360",
   "metadata": {},
   "outputs": [],
   "source": []
  },
  {
   "cell_type": "code",
   "execution_count": 23,
   "id": "e7bb1a6d-6891-4448-9e85-f77c9c1661ee",
   "metadata": {},
   "outputs": [],
   "source": []
  },
  {
   "cell_type": "code",
   "execution_count": 24,
   "id": "57d4763e-edea-4701-b2d0-f4b2289c1f6b",
   "metadata": {},
   "outputs": [
    {
     "name": "stdout",
     "output_type": "stream",
     "text": [
      "Estimated ATE (Average Treatment Effect) after PSM: 4.9582\n"
     ]
    }
   ],
   "source": [
    "\n"
   ]
  },
  {
   "cell_type": "code",
   "execution_count": null,
   "id": "83e70ede-575d-4941-a098-f16c05c3212f",
   "metadata": {},
   "outputs": [],
   "source": []
  }
 ],
 "metadata": {
  "kernelspec": {
   "display_name": "Python [conda env:base] *",
   "language": "python",
   "name": "conda-base-py"
  },
  "language_info": {
   "codemirror_mode": {
    "name": "ipython",
    "version": 3
   },
   "file_extension": ".py",
   "mimetype": "text/x-python",
   "name": "python",
   "nbconvert_exporter": "python",
   "pygments_lexer": "ipython3",
   "version": "3.12.7"
  }
 },
 "nbformat": 4,
 "nbformat_minor": 5
}
