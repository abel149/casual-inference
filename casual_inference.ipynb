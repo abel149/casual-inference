{
 "cells": [
  {
   "cell_type": "code",
   "execution_count": null,
   "id": "529434bf-c017-4239-93f0-4dad49026398",
   "metadata": {},
   "outputs": [],
   "source": [
    "pip install causalml\n"
   ]
  },
  {
   "cell_type": "code",
   "execution_count": null,
   "id": "c4cab4e1-a346-4a27-b780-b6f0f889d425",
   "metadata": {},
   "outputs": [],
   "source": [
    "import pandas as pd\n",
    "import numpy as np"
   ]
  },
  {
   "cell_type": "code",
   "execution_count": null,
   "id": "314cdc8d-9a0f-4ca2-ba49-abc3737a81d5",
   "metadata": {},
   "outputs": [],
   "source": []
  }
 ],
 "metadata": {
  "kernelspec": {
   "display_name": "Python [conda env:base] *",
   "language": "python",
   "name": "conda-base-py"
  },
  "language_info": {
   "codemirror_mode": {
    "name": "ipython",
    "version": 3
   },
   "file_extension": ".py",
   "mimetype": "text/x-python",
   "name": "python",
   "nbconvert_exporter": "python",
   "pygments_lexer": "ipython3",
   "version": "3.12.7"
  }
 },
 "nbformat": 4,
 "nbformat_minor": 5
}
