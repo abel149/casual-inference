{
 "cells": [
  {
   "cell_type": "code",
   "execution_count": 4,
   "id": "529434bf-c017-4239-93f0-4dad49026398",
   "metadata": {},
   "outputs": [
    {
     "name": "stdout",
     "output_type": "stream",
     "text": [
      "Requirement already satisfied: causalml in e:\\anacoda\\lib\\site-packages (0.15.4)\n",
      "Requirement already satisfied: forestci==0.6 in e:\\anacoda\\lib\\site-packages (from causalml) (0.6)\n",
      "Requirement already satisfied: pathos==0.2.9 in e:\\anacoda\\lib\\site-packages (from causalml) (0.2.9)\n",
      "Requirement already satisfied: pip>=10.0 in e:\\anacoda\\lib\\site-packages (from causalml) (24.2)\n",
      "Requirement already satisfied: numpy>=1.18.5 in e:\\anacoda\\lib\\site-packages (from causalml) (1.26.4)\n",
      "Requirement already satisfied: scipy>=1.4.1 in e:\\anacoda\\lib\\site-packages (from causalml) (1.13.1)\n",
      "Requirement already satisfied: matplotlib in e:\\anacoda\\lib\\site-packages (from causalml) (3.9.2)\n",
      "Requirement already satisfied: pandas>=0.24.1 in e:\\anacoda\\lib\\site-packages (from causalml) (2.2.2)\n",
      "Requirement already satisfied: scikit-learn>=1.5.2 in e:\\anacoda\\lib\\site-packages (from causalml) (1.6.1)\n",
      "Requirement already satisfied: statsmodels>=0.9.0 in e:\\anacoda\\lib\\site-packages (from causalml) (0.14.2)\n",
      "Requirement already satisfied: Cython in e:\\anacoda\\lib\\site-packages (from causalml) (0.29.37)\n",
      "Requirement already satisfied: seaborn in e:\\anacoda\\lib\\site-packages (from causalml) (0.13.2)\n",
      "Requirement already satisfied: xgboost in e:\\anacoda\\lib\\site-packages (from causalml) (3.0.1)\n",
      "Requirement already satisfied: pydotplus in e:\\anacoda\\lib\\site-packages (from causalml) (2.0.2)\n",
      "Requirement already satisfied: tqdm in e:\\anacoda\\lib\\site-packages (from causalml) (4.66.5)\n",
      "Requirement already satisfied: shap in e:\\anacoda\\lib\\site-packages (from causalml) (0.47.2)\n",
      "Requirement already satisfied: dill in e:\\anacoda\\lib\\site-packages (from causalml) (0.4.0)\n",
      "Requirement already satisfied: lightgbm in e:\\anacoda\\lib\\site-packages (from causalml) (4.6.0)\n",
      "Requirement already satisfied: packaging in e:\\anacoda\\lib\\site-packages (from causalml) (24.1)\n",
      "Requirement already satisfied: graphviz in e:\\anacoda\\lib\\site-packages (from causalml) (0.20.3)\n",
      "Requirement already satisfied: ppft>=1.7.6.5 in e:\\anacoda\\lib\\site-packages (from pathos==0.2.9->causalml) (1.7.7)\n",
      "Requirement already satisfied: pox>=0.3.1 in e:\\anacoda\\lib\\site-packages (from pathos==0.2.9->causalml) (0.3.6)\n",
      "Requirement already satisfied: multiprocess>=0.70.13 in e:\\anacoda\\lib\\site-packages (from pathos==0.2.9->causalml) (0.70.18)\n",
      "Requirement already satisfied: python-dateutil>=2.8.2 in e:\\anacoda\\lib\\site-packages (from pandas>=0.24.1->causalml) (2.9.0.post0)\n",
      "Requirement already satisfied: pytz>=2020.1 in e:\\anacoda\\lib\\site-packages (from pandas>=0.24.1->causalml) (2024.1)\n",
      "Requirement already satisfied: tzdata>=2022.7 in e:\\anacoda\\lib\\site-packages (from pandas>=0.24.1->causalml) (2023.3)\n",
      "Requirement already satisfied: joblib>=1.2.0 in e:\\anacoda\\lib\\site-packages (from scikit-learn>=1.5.2->causalml) (1.4.2)\n",
      "Requirement already satisfied: threadpoolctl>=3.1.0 in e:\\anacoda\\lib\\site-packages (from scikit-learn>=1.5.2->causalml) (3.5.0)\n",
      "Requirement already satisfied: patsy>=0.5.6 in e:\\anacoda\\lib\\site-packages (from statsmodels>=0.9.0->causalml) (0.5.6)\n",
      "Requirement already satisfied: contourpy>=1.0.1 in e:\\anacoda\\lib\\site-packages (from matplotlib->causalml) (1.2.0)\n",
      "Requirement already satisfied: cycler>=0.10 in e:\\anacoda\\lib\\site-packages (from matplotlib->causalml) (0.11.0)\n",
      "Requirement already satisfied: fonttools>=4.22.0 in e:\\anacoda\\lib\\site-packages (from matplotlib->causalml) (4.51.0)\n",
      "Requirement already satisfied: kiwisolver>=1.3.1 in e:\\anacoda\\lib\\site-packages (from matplotlib->causalml) (1.4.4)\n",
      "Requirement already satisfied: pillow>=8 in e:\\anacoda\\lib\\site-packages (from matplotlib->causalml) (10.4.0)\n",
      "Requirement already satisfied: pyparsing>=2.3.1 in e:\\anacoda\\lib\\site-packages (from matplotlib->causalml) (3.1.2)\n",
      "Requirement already satisfied: slicer==0.0.8 in e:\\anacoda\\lib\\site-packages (from shap->causalml) (0.0.8)\n",
      "Requirement already satisfied: numba>=0.54 in e:\\anacoda\\lib\\site-packages (from shap->causalml) (0.60.0)\n",
      "Requirement already satisfied: cloudpickle in e:\\anacoda\\lib\\site-packages (from shap->causalml) (3.0.0)\n",
      "Requirement already satisfied: typing-extensions in e:\\anacoda\\lib\\site-packages (from shap->causalml) (4.11.0)\n",
      "Requirement already satisfied: colorama in e:\\anacoda\\lib\\site-packages (from tqdm->causalml) (0.4.6)\n",
      "Requirement already satisfied: llvmlite<0.44,>=0.43.0dev0 in e:\\anacoda\\lib\\site-packages (from numba>=0.54->shap->causalml) (0.43.0)\n",
      "Requirement already satisfied: six in e:\\anacoda\\lib\\site-packages (from patsy>=0.5.6->statsmodels>=0.9.0->causalml) (1.16.0)\n",
      "Note: you may need to restart the kernel to use updated packages.\n"
     ]
    }
   ],
   "source": [
    "pip install causalml\n"
   ]
  },
  {
   "cell_type": "code",
   "execution_count": 5,
   "id": "c4cab4e1-a346-4a27-b780-b6f0f889d425",
   "metadata": {},
   "outputs": [],
   "source": [
    "import pandas as pd\n",
    "import numpy as np"
   ]
  },
  {
   "cell_type": "code",
   "execution_count": 6,
   "id": "314cdc8d-9a0f-4ca2-ba49-abc3737a81d5",
   "metadata": {},
   "outputs": [],
   "source": [
    "from causalml.match import NearestNeighborMatch"
   ]
  },
  {
   "cell_type": "code",
   "execution_count": 7,
   "id": "fff09478-2565-47af-ad05-9e132ccdc9d4",
   "metadata": {},
   "outputs": [],
   "source": [
    "import matplotlib.pyplot as plt"
   ]
  },
  {
   "cell_type": "code",
   "execution_count": 22,
   "id": "fe7617a4-0173-4be7-8641-4218cef752ea",
   "metadata": {},
   "outputs": [
    {
     "data": {
      "text/html": [
       "<div>\n",
       "<style scoped>\n",
       "    .dataframe tbody tr th:only-of-type {\n",
       "        vertical-align: middle;\n",
       "    }\n",
       "\n",
       "    .dataframe tbody tr th {\n",
       "        vertical-align: top;\n",
       "    }\n",
       "\n",
       "    .dataframe thead th {\n",
       "        text-align: right;\n",
       "    }\n",
       "</style>\n",
       "<table border=\"1\" class=\"dataframe\">\n",
       "  <thead>\n",
       "    <tr style=\"text-align: right;\">\n",
       "      <th></th>\n",
       "      <th>age;\"job\";\"marital\";\"education\";\"default\";\"balance\";\"housing\";\"loan\";\"contact\";\"day\";\"month\";\"duration\";\"campaign\";\"pdays\";\"previous\";\"poutcome\";\"y\"</th>\n",
       "    </tr>\n",
       "  </thead>\n",
       "  <tbody>\n",
       "    <tr>\n",
       "      <th>0</th>\n",
       "      <td>30;\"unemployed\";\"married\";\"primary\";\"no\";1787;...</td>\n",
       "    </tr>\n",
       "    <tr>\n",
       "      <th>1</th>\n",
       "      <td>33;\"services\";\"married\";\"secondary\";\"no\";4789;...</td>\n",
       "    </tr>\n",
       "    <tr>\n",
       "      <th>2</th>\n",
       "      <td>35;\"management\";\"single\";\"tertiary\";\"no\";1350;...</td>\n",
       "    </tr>\n",
       "    <tr>\n",
       "      <th>3</th>\n",
       "      <td>30;\"management\";\"married\";\"tertiary\";\"no\";1476...</td>\n",
       "    </tr>\n",
       "    <tr>\n",
       "      <th>4</th>\n",
       "      <td>59;\"blue-collar\";\"married\";\"secondary\";\"no\";0;...</td>\n",
       "    </tr>\n",
       "    <tr>\n",
       "      <th>...</th>\n",
       "      <td>...</td>\n",
       "    </tr>\n",
       "    <tr>\n",
       "      <th>4516</th>\n",
       "      <td>33;\"services\";\"married\";\"secondary\";\"no\";-333;...</td>\n",
       "    </tr>\n",
       "    <tr>\n",
       "      <th>4517</th>\n",
       "      <td>57;\"self-employed\";\"married\";\"tertiary\";\"yes\";...</td>\n",
       "    </tr>\n",
       "    <tr>\n",
       "      <th>4518</th>\n",
       "      <td>57;\"technician\";\"married\";\"secondary\";\"no\";295...</td>\n",
       "    </tr>\n",
       "    <tr>\n",
       "      <th>4519</th>\n",
       "      <td>28;\"blue-collar\";\"married\";\"secondary\";\"no\";11...</td>\n",
       "    </tr>\n",
       "    <tr>\n",
       "      <th>4520</th>\n",
       "      <td>44;\"entrepreneur\";\"single\";\"tertiary\";\"no\";113...</td>\n",
       "    </tr>\n",
       "  </tbody>\n",
       "</table>\n",
       "<p>4521 rows × 1 columns</p>\n",
       "</div>"
      ],
      "text/plain": [
       "     age;\"job\";\"marital\";\"education\";\"default\";\"balance\";\"housing\";\"loan\";\"contact\";\"day\";\"month\";\"duration\";\"campaign\";\"pdays\";\"previous\";\"poutcome\";\"y\"\n",
       "0     30;\"unemployed\";\"married\";\"primary\";\"no\";1787;...                                                                                                  \n",
       "1     33;\"services\";\"married\";\"secondary\";\"no\";4789;...                                                                                                  \n",
       "2     35;\"management\";\"single\";\"tertiary\";\"no\";1350;...                                                                                                  \n",
       "3     30;\"management\";\"married\";\"tertiary\";\"no\";1476...                                                                                                  \n",
       "4     59;\"blue-collar\";\"married\";\"secondary\";\"no\";0;...                                                                                                  \n",
       "...                                                 ...                                                                                                  \n",
       "4516  33;\"services\";\"married\";\"secondary\";\"no\";-333;...                                                                                                  \n",
       "4517  57;\"self-employed\";\"married\";\"tertiary\";\"yes\";...                                                                                                  \n",
       "4518  57;\"technician\";\"married\";\"secondary\";\"no\";295...                                                                                                  \n",
       "4519  28;\"blue-collar\";\"married\";\"secondary\";\"no\";11...                                                                                                  \n",
       "4520  44;\"entrepreneur\";\"single\";\"tertiary\";\"no\";113...                                                                                                  \n",
       "\n",
       "[4521 rows x 1 columns]"
      ]
     },
     "execution_count": 22,
     "metadata": {},
     "output_type": "execute_result"
    }
   ],
   "source": [
    "df = pd.read_csv(\"bank.csv\")"
   ]
  },
  {
   "cell_type": "code",
   "execution_count": null,
   "id": "a04f6ea6-76e0-4e0a-9f03-5b4c047c8718",
   "metadata": {},
   "outputs": [],
   "source": []
  }
 ],
 "metadata": {
  "kernelspec": {
   "display_name": "Python [conda env:base] *",
   "language": "python",
   "name": "conda-base-py"
  },
  "language_info": {
   "codemirror_mode": {
    "name": "ipython",
    "version": 3
   },
   "file_extension": ".py",
   "mimetype": "text/x-python",
   "name": "python",
   "nbconvert_exporter": "python",
   "pygments_lexer": "ipython3",
   "version": "3.12.7"
  }
 },
 "nbformat": 4,
 "nbformat_minor": 5
}
